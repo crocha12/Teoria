{
  "nbformat": 4,
  "nbformat_minor": 0,
  "metadata": {
    "colab": {
      "provenance": [],
      "collapsed_sections": [
        "Vb20c8GGgspn",
        "7wi_lUDRg3RX",
        "LdDfCerghb2S",
        "zPR_5ksHisZ1"
      ],
      "authorship_tag": "ABX9TyOGTyEGSKsXar0BAB31wDYT",
      "include_colab_link": true
    },
    "kernelspec": {
      "name": "python3",
      "display_name": "Python 3"
    },
    "language_info": {
      "name": "python"
    }
  },
  "cells": [
    {
      "cell_type": "markdown",
      "metadata": {
        "id": "view-in-github",
        "colab_type": "text"
      },
      "source": [
        "<a href=\"https://colab.research.google.com/github/crocha12/Teoria/blob/main/TP/TP_Camilo.ipynb\" target=\"_parent\"><img src=\"https://colab.research.google.com/assets/colab-badge.svg\" alt=\"Open In Colab\"/></a>"
      ]
    },
    {
      "cell_type": "markdown",
      "source": [
        "# Classe e funções"
      ],
      "metadata": {
        "id": "43lDRvJngoY6"
      }
    },
    {
      "cell_type": "code",
      "source": [
        "class StateStack:\n",
        "  def __init__(self, code, stack):\n",
        "    self.code = code\n",
        "    self.stack = stack\n",
        "\n",
        "class Transition:\n",
        "  def __init__(self, current, symbol, unstack, next, stack):\n",
        "    self.current = current\n",
        "    self.symbol = symbol\n",
        "    self.unstack = unstack\n",
        "    self.next = next\n",
        "    self.stack = stack\n",
        "\n",
        "def checkTransition(current, symbol):\n",
        "  return list(filter(lambda x: x.current == current and x.symbol == symbol, Transitions))\n",
        "\n",
        "def printarArrayState(a):\n",
        "  print('ArrayState')\n",
        "  for i in a:\n",
        "    print('    ', i.code, i.stack)\n",
        "  print('end')\n",
        "\n",
        "def printTransition(tr, state):\n",
        "  print('Transitions para', state.code, state.stack)\n",
        "  for t in tr:\n",
        "    print('    ',t.next, t.unstack, t.stack)\n",
        "  print('end')\n",
        "\n",
        "def checkUnStack(stack, verifyStack):\n",
        "  if len(stack) < len(verifyStack):\n",
        "    return False\n",
        "  for i in range(len(verifyStack)):\n",
        "    if verifyStack[i] != stack[(i+1)*-1]:\n",
        "      return False\n",
        "  return True\n",
        "\n",
        "def updateStatesList(e, symbol, E):\n",
        "  tr = checkTransition(e.code, symbol)\n",
        "  for t in tr:\n",
        "    if t.unstack == ['*'] or checkUnStack(e.stack, t.unstack):\n",
        "      state = StateStack(t.next, [*e.stack])\n",
        "      if t.unstack != ['*']:\n",
        "        for i in t.unstack:\n",
        "          state.stack.pop()\n",
        "      if t.stack != ['*']:\n",
        "        state.stack = [*state.stack, *t.stack]\n",
        "      E.append(state)\n",
        "      if symbol != '*':\n",
        "        tr = checkTransition(e.code, '*')\n",
        "        for t in tr:\n",
        "          if t.unstack == ['*'] or checkUnStack(e.stack, t.unstack):\n",
        "            state = StateStack(t.next, [*state.stack])\n",
        "            if t.unstack != ['*']:\n",
        "              for i in t.unstack:\n",
        "                state.stack.pop()\n",
        "            if t.stack != ['*']:\n",
        "              state.stack = [*state.stack, *t.stack]\n",
        "            E.append(state)\n",
        "  return E        "
      ],
      "metadata": {
        "id": "encqqgLeMa7s"
      },
      "execution_count": null,
      "outputs": []
    },
    {
      "cell_type": "markdown",
      "source": [],
      "metadata": {
        "id": "yTL2v08YMm6E"
      }
    },
    {
      "cell_type": "markdown",
      "source": [
        "# Casos de Teste"
      ],
      "metadata": {
        "id": "7YZageohr6LA"
      }
    },
    {
      "cell_type": "markdown",
      "source": [
        "## w = a^{n}b^{n}"
      ],
      "metadata": {
        "id": "Vb20c8GGgspn"
      }
    },
    {
      "cell_type": "code",
      "source": [
        "statesList = ['0', '1']\n",
        "alphabet = ['a', 'b']\n",
        "stackAlphabet = ['A']\n",
        "n = 3\n",
        "Transitions = [\n",
        "    Transition('0', 'a', ['*'], '0', ['A']),\n",
        "    Transition('0', '*', ['*'], '1', ['*']),\n",
        "    Transition('1', 'b', ['A'], '1', ['*'])\n",
        "]\n",
        "\n",
        "initialState = '0'\n",
        "endStates = ['1']\n",
        "\n",
        "wordsList = ['*', 'ab', 'ba', 'abb', 'aab', 'bab', 'aaaaabbbb', 'aaabbb', 'aaaaabbbbb']"
      ],
      "metadata": {
        "id": "DFxGi_C3MmLO"
      },
      "execution_count": null,
      "outputs": []
    },
    {
      "cell_type": "markdown",
      "source": [
        "## w = a^{n}b^{m} | m>=n>0"
      ],
      "metadata": {
        "id": "7wi_lUDRg3RX"
      }
    },
    {
      "cell_type": "code",
      "source": [
        "statesList = ['0', '1']\n",
        "alphabet = ['a', 'b']\n",
        "stackAlphabet = ['A']\n",
        "n = 4\n",
        "Transitions = [\n",
        "    Transition('0', 'a', ['*'], '0', ['A']),\n",
        "    Transition('0', 'b', ['A'], '1', ['*']),\n",
        "    Transition('1', 'b', ['A'], '1', ['*']),\n",
        "    Transition('1', 'b', ['*'], '1', ['*'])\n",
        "]\n",
        "\n",
        "initialState = '0'\n",
        "endStates = ['1']\n",
        "\n",
        "#wordsList = ['*', 'ab', 'ba', 'abb', 'aab', 'bab', 'aaaaabbbb', 'aaabbb', 'aaaaabbbbb']\n",
        "wordsList = ['abb', 'ab', 'aab', 'aabbbbb', '*']"
      ],
      "metadata": {
        "id": "4Ae1wTguQAiN"
      },
      "execution_count": null,
      "outputs": []
    },
    {
      "cell_type": "markdown",
      "source": [
        "## w = a^{n}b^{m} | m >= n >=0"
      ],
      "metadata": {
        "id": "LdDfCerghb2S"
      }
    },
    {
      "cell_type": "code",
      "source": [
        "statesList = ['0', '1']\n",
        "alphabet = ['a', 'b']\n",
        "stackAlphabet = ['A']\n",
        "n = 4\n",
        "Transitions = [\n",
        "    Transition('0', 'a', ['*'], '0', ['A']),\n",
        "    Transition('0', 'a', ['*'], '0', list('AA')),\n",
        "    Transition('0', '*', ['*'], '1', ['*']),\n",
        "    Transition('1', 'b', ['A'], '1', ['*'])\n",
        "]\n",
        "\n",
        "initialState = '0'\n",
        "endStates = ['1']\n",
        "\n",
        "wordsList = ['*', 'ab', 'aabb', 'aaaabbbb', 'aab', 'aaabb', 'abb']"
      ],
      "metadata": {
        "id": "kDQHZgWSTNcB"
      },
      "execution_count": null,
      "outputs": []
    },
    {
      "cell_type": "markdown",
      "source": [
        "## w = a^{2n}b^{n} | n >= 0"
      ],
      "metadata": {
        "id": "1GUsMGIZim31"
      }
    },
    {
      "cell_type": "code",
      "source": [
        "statesList = ['0', '1']\n",
        "alphabet = ['a', 'b']\n",
        "stackAlphabet = ['A']\n",
        "n = 3\n",
        "Transitions = [\n",
        "    Transition('0', 'a', ['*'], '0', ['A']),\n",
        "    Transition('0', '*', ['*'], '1', ['*']),\n",
        "    Transition('1', 'b', list('AA'), '1', ['*'])\n",
        "]\n",
        "\n",
        "initialState = '0'\n",
        "endStates = ['1']\n",
        "\n",
        "#wordsList = ['*', 'ab', 'ba', 'abb', 'aab', 'bab', 'aaaaabbbb', 'aaabbb', 'aaaaabbbbb']\n",
        "wordsList = ['*', 'aab', 'aaaabb', 'a', 'aaab', 'aaaaabb', 'ab']"
      ],
      "metadata": {
        "id": "uSu4ILAqabSN"
      },
      "execution_count": null,
      "outputs": []
    },
    {
      "cell_type": "markdown",
      "source": [
        "## w = a^{n}b^{m}c^{n} | m,n >=0"
      ],
      "metadata": {
        "id": "US8Mgz-goDrj"
      }
    },
    {
      "cell_type": "code",
      "source": [
        "statesList = ['0', '1', '2']\n",
        "alphabet = ['a', 'b', 'c']\n",
        "stackAlphabet = ['A']\n",
        "n = 3\n",
        "Transitions = [\n",
        "    Transition('0', 'a', ['*'], '0', ['A']),\n",
        "    Transition('0', '*', ['*'], '1', ['*']),\n",
        "    Transition('1', 'b', ['*'], '1', ['*']),\n",
        "    Transition('1', '*', ['*'], '2', ['*']),\n",
        "    Transition('2', 'c', ['A'], '2', ['*'])\n",
        "]\n",
        "\n",
        "initialState = '0'\n",
        "endStates = ['2']\n",
        "\n",
        "wordsList = ['*', 'ac', 'abc', 'aabcc', 'b', 'abbc', 'abcc', 'aabc', 'c']\n"
      ],
      "metadata": {
        "id": "NdWUItvcoCqO"
      },
      "execution_count": null,
      "outputs": []
    },
    {
      "cell_type": "markdown",
      "source": [
        "# Execução"
      ],
      "metadata": {
        "id": "4fWSfZPjiouI"
      }
    },
    {
      "cell_type": "code",
      "source": [
        "for w in wordsList:\n",
        "  palavra = list(w)\n",
        "  E = [StateStack(initialState, [])]\n",
        "  for p in palavra:\n",
        "    Next = []\n",
        "    while len(E) > 0:\n",
        "      e = E.pop()\n",
        "      E = updateStatesList(e, '*', E)\n",
        "      Next = updateStatesList(e, p, Next)\n",
        "    E = Next\n",
        "  status = 'N'\n",
        "  for e in E:\n",
        "    if e.code in endStates and len(e.stack) == 0:\n",
        "      status = 'S'\n",
        "  print(status)"
      ],
      "metadata": {
        "colab": {
          "base_uri": "https://localhost:8080/"
        },
        "id": "Q3iVC5mFa8SB",
        "outputId": "7801998d-a0d7-4912-8c99-9ca4e794dc9a"
      },
      "execution_count": null,
      "outputs": [
        {
          "output_type": "stream",
          "name": "stdout",
          "text": [
            "S\n",
            "S\n",
            "S\n",
            "S\n",
            "S\n",
            "S\n",
            "N\n",
            "N\n",
            "N\n"
          ]
        }
      ]
    },
    {
      "cell_type": "markdown",
      "source": [
        "# Algoritmo para submissão"
      ],
      "metadata": {
        "id": "ZX0BsMM0aUo-"
      }
    },
    {
      "cell_type": "code",
      "execution_count": null,
      "metadata": {
        "id": "548rJF_AM1yT"
      },
      "outputs": [],
      "source": [
        "class StateStack:\n",
        "  def __init__(self, code, stack):\n",
        "    self.code = code\n",
        "    self.stack = stack\n",
        "\n",
        "class Transition:\n",
        "  def __init__(self, current, symbol, unstack, next, stack):\n",
        "    self.current = current\n",
        "    self.symbol = symbol\n",
        "    self.unstack = unstack\n",
        "    self.next = next\n",
        "    self.stack = stack\n",
        "\n",
        "def checkTransition(current, symbol):\n",
        "  return list(filter(lambda x: x.current == current and x.symbol == symbol, Transitions))\n",
        "\n",
        "def checkUnStack(stack, verifyStack):\n",
        "  if len(stack) < len(verifyStack):\n",
        "    return False\n",
        "  for i in range(len(verifyStack)):\n",
        "    if verifyStack[i] != stack[(i+1)*-1]:\n",
        "      return False\n",
        "  return True\n",
        "\n",
        "def updateStatesList(e, symbol, E):\n",
        "  tr = checkTransition(e.code, symbol)\n",
        "  for t in tr:\n",
        "    if t.unstack == ['*'] or checkUnStack(e.stack, t.unstack):\n",
        "      state = StateStack(t.next, [*e.stack])\n",
        "      if t.unstack != ['*']:\n",
        "        for i in t.unstack:\n",
        "          state.stack.pop()\n",
        "      if t.stack != ['*']:\n",
        "        state.stack = [*state.stack, *t.stack]\n",
        "      E.append(state)\n",
        "      if symbol != '*':\n",
        "        tr = checkTransition(e.code, '*')\n",
        "        for t in tr:\n",
        "          if t.unstack == ['*'] or checkUnStack(e.stack, t.unstack):\n",
        "            state = StateStack(t.next, [*state.stack])\n",
        "            if t.unstack != ['*']:\n",
        "              for i in t.unstack:\n",
        "                state.stack.pop()\n",
        "            if t.stack != ['*']:\n",
        "              state.stack = [*state.stack, *t.stack]\n",
        "            E.append(state)\n",
        "  return E      \n",
        "\n",
        "statesList = input().split(sep=' ')\n",
        "alphabet = input().split(sep=' ')\n",
        "stackAlphabet = input().split(sep=' ')\n",
        "n = int(input())\n",
        "Transitions = []\n",
        "for i in range(n):\n",
        "  t = input().split(sep=' ')\n",
        "  Transitions.append(Transition(t[0], t[1], list(t[2]), t[3], list(t[4])))\n",
        "\n",
        "initialState = input()\n",
        "endStates = input().split(' ')\n",
        "\n",
        "wordsList = input().split(sep=' ')\n",
        "\n",
        "for w in wordsList:\n",
        "  palavra = list(w)\n",
        "  E = [StateStack(initialState, [])]\n",
        "  for p in palavra:\n",
        "    Next = []\n",
        "    while len(E) > 0:\n",
        "      e = E.pop()\n",
        "      E = updateStatesList(e, '*', E)\n",
        "      Next = updateStatesList(e, p, Next)\n",
        "    E = Next\n",
        "  status = 'N'\n",
        "  for e in E:\n",
        "    if e.code in endStates and len(e.stack) == 0:\n",
        "      status = 'S'\n",
        "  print(status)"
      ]
    }
  ]
}