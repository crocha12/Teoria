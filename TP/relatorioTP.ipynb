{
  "nbformat": 4,
  "nbformat_minor": 0,
  "metadata": {
    "colab": {
      "provenance": [],
      "authorship_tag": "ABX9TyMRQjW6NQd25PXkrGvsEuUM",
      "include_colab_link": true
    },
    "kernelspec": {
      "name": "python3",
      "display_name": "Python 3"
    },
    "language_info": {
      "name": "python"
    }
  },
  "cells": [
    {
      "cell_type": "markdown",
      "metadata": {
        "id": "view-in-github",
        "colab_type": "text"
      },
      "source": [
        "<a href=\"https://colab.research.google.com/github/crocha12/Teoria/blob/main/TP/relatorioTP.ipynb\" target=\"_parent\"><img src=\"https://colab.research.google.com/assets/colab-badge.svg\" alt=\"Open In Colab\"/></a>"
      ]
    },
    {
      "cell_type": "markdown",
      "source": [
        "# **Relatorio Tecnico TP3**"
      ],
      "metadata": {
        "id": "7VJgQo28JsoT"
      }
    },
    {
      "cell_type": "markdown",
      "source": [
        "## Introdução"
      ],
      "metadata": {
        "id": "L-oBXwrIJ4d6"
      }
    },
    {
      "cell_type": "markdown",
      "source": [
        "Uma APND é uma nova variação do automato não determinístico AFND onde incluímos uma pilha que nos permite reconhecer outras palavras, que antes eram impossíveis de serem reconhecidas por um AFD ou AFND. A pilha é usada de tal forma que em cada transição é verificado o último símbolo contido na pilha e ao realizar a transição um novo símbolo é empilhado. Diferente do AFND ou AFD o automato de pilha contém outras formas de determinar que uma palavra é reconhecida, nos AF era apenas necessário que o automato se encontrasse em um estado final após o último símbolo da palavra, já em AP é necessário estar em um estado final e com a pilha vazia, ou outras formas como apenas a pilha vazia ou apenas estado final. Nesse presente trabalho é o utilizado o reconhecimento com pilha vazia e estado final."
      ],
      "metadata": {
        "id": "1gevv50PKP91"
      }
    },
    {
      "cell_type": "markdown",
      "source": [
        "## Projeto e Implementação do Algoritmo"
      ],
      "metadata": {
        "id": "EOEa6296J1NV"
      }
    },
    {
      "cell_type": "markdown",
      "source": [
        "O algoritmo foi projetado com base nos desenvolvidos anteriormente, porém diferente da implementação AFND tomando base no AFD, foi necessário fazer diversas mudanças e testes, a presença das transições lambdas fez com que durante o desenvolvimento fosse feita uma verificação da transição lambda antes e pós-transição, foi utilizado também duas classes, onde a primeira(StateStack) possuía os atributos code(nome do estado) e stack(pilha), e a segunda(Transition) responsável por armazenar os dados da transição com os atributos current(estado atual), symbol(caractere de transição), unstack(símbolo a ser desempilhado), next(próximo estado) e stack(símbolo a ser empilhado), além dessas classes temos as funções checkTransition que com base no estado e caractere retorna uma lista de possíveis transições, checkUnStack para verificar se o símbolo a ser desempilhada estar no topo da pilha e por fim updateStatesList que recebe como parametro o estado atual, um símbolo e a lista de Estados usada para controlar um não determinismo."
      ],
      "metadata": {
        "id": "JYz5FsEdKTAO"
      }
    },
    {
      "cell_type": "markdown",
      "source": [
        "## Metodologia:"
      ],
      "metadata": {
        "id": "A5Jnm851KCry"
      }
    },
    {
      "cell_type": "markdown",
      "source": [
        "Para desenvolver o algoritmo foi necessário elaborar uma alta quantidade de teste, e com base em cada teste o algoritmo passou por diversas mudanças, essa metodologia de desenvolvimento tem semelhança com uma técnica bastante utilizada por desenvolvedores que simpatizam com o clean code a metodologia de TDD, visto que o TDD prega que o código é desenvolvido após a criação dos testes, ou seja, código guiado por testes. Dentre os teste foram utilizadas as linguagens $L_1 =  \\{a^nb^n | n >= 0\\}, $  $L_2 = \\{a^nb^m | m >= n > 0 \\}, $ $L_3 = \\{a^nb^m | m >= n >= 0 \\}, $ $L_4 = \\{a^{2n}b^n | n >= 0 \\} e $  $L_5 = \\{a^nb^mc^n | m, n >= 0 \\} $"
      ],
      "metadata": {
        "id": "_o7aAf2WKUe4"
      }
    },
    {
      "cell_type": "markdown",
      "source": [
        "## Resultados e Conclusões:"
      ],
      "metadata": {
        "id": "cGlEpq7LKGBq"
      }
    },
    {
      "cell_type": "markdown",
      "source": [
        "Para analisar o tempo de execução serão feitos testes para as linguagens $L_1$ e $L_4$ onde iremos variar o valor de n entre 1 e 1000 onde o tamanho da palavra representa $2*n$ para $L_1$ e $3*n$ para $L_4$."
      ],
      "metadata": {
        "id": "yEhaDFtQKWK1"
      }
    },
    {
      "cell_type": "markdown",
      "source": [
        "Gerando as lista de palavras"
      ],
      "metadata": {
        "id": "d7ZWIVvehNb8"
      }
    },
    {
      "cell_type": "code",
      "source": [
        "n = 1000\n",
        "W1 = []\n",
        "W2 = []\n",
        "for i in range(n):\n",
        "  p = 'a'*(i+1) + 'b'*(i+1)\n",
        "  W1.append(p)\n",
        "for i in range(n):\n",
        "  p = 'aa'*(i+1) + 'b'*(i+1)\n",
        "  W2.append(p)"
      ],
      "metadata": {
        "id": "sysD-9uKfugo"
      },
      "execution_count": null,
      "outputs": []
    },
    {
      "cell_type": "markdown",
      "source": [
        "Foram feitas modificações no algoritmo original para poder registrar o seu tempo e além disso adicionamos a lib time"
      ],
      "metadata": {
        "id": "8wT1EWi4joTg"
      }
    },
    {
      "cell_type": "code",
      "source": [
        "import time"
      ],
      "metadata": {
        "id": "jTJ8zGHmjhrj"
      },
      "execution_count": null,
      "outputs": []
    },
    {
      "cell_type": "code",
      "source": [
        "class StateStack:\n",
        "  def __init__(self, code, stack):\n",
        "    self.code = code\n",
        "    self.stack = stack\n",
        "\n",
        "class Transition:\n",
        "  def __init__(self, current, symbol, unstack, next, stack):\n",
        "    self.current = current\n",
        "    self.symbol = symbol\n",
        "    self.unstack = unstack\n",
        "    self.next = next\n",
        "    self.stack = stack\n",
        "\n",
        "def checkTransition(current, symbol):\n",
        "  return list(filter(lambda x: x.current == current and x.symbol == symbol, Transitions))\n",
        "\n",
        "def printarArrayState(a):\n",
        "  print('ArrayState')\n",
        "  for i in a:\n",
        "    print('    ', i.code, i.stack)\n",
        "  print('end')\n",
        "\n",
        "def printTransition(tr, state):\n",
        "  print('Transitions para', state.code, state.stack)\n",
        "  for t in tr:\n",
        "    print('    ',t.next, t.unstack, t.stack)\n",
        "  print('end')\n",
        "\n",
        "def checkUnStack(stack, verifyStack):\n",
        "  if len(stack) < len(verifyStack):\n",
        "    return False\n",
        "  for i in range(len(verifyStack)):\n",
        "    if verifyStack[i] != stack[(i+1)*-1]:\n",
        "      return False\n",
        "  return True\n",
        "\n",
        "def updateStatesList(e, symbol, E):\n",
        "  tr = checkTransition(e.code, symbol)\n",
        "  for t in tr:\n",
        "    if t.unstack == ['*'] or checkUnStack(e.stack, t.unstack):\n",
        "      state = StateStack(t.next, [*e.stack])\n",
        "      if t.unstack != ['*']:\n",
        "        for i in t.unstack:\n",
        "          state.stack.pop()\n",
        "      if t.stack != ['*']:\n",
        "        state.stack = [*state.stack, *t.stack]\n",
        "      E.append(state)\n",
        "      if symbol != '*':\n",
        "        tr = checkTransition(e.code, '*')\n",
        "        for t in tr:\n",
        "          if t.unstack == ['*'] or checkUnStack(e.stack, t.unstack):\n",
        "            state = StateStack(t.next, [*state.stack])\n",
        "            if t.unstack != ['*']:\n",
        "              for i in t.unstack:\n",
        "                state.stack.pop()\n",
        "            if t.stack != ['*']:\n",
        "              state.stack = [*state.stack, *t.stack]\n",
        "            E.append(state)\n",
        "  return E   \n",
        "def main():\n",
        "  Times = []\n",
        "  for w in wordsList:\n",
        "    ini = time.time()\n",
        "    palavra = list(w)\n",
        "    E = [StateStack(initialState, [])]\n",
        "    for p in palavra:\n",
        "      Next = []\n",
        "      while len(E) > 0:\n",
        "        e = E.pop()\n",
        "        E = updateStatesList(e, '*', E)\n",
        "        Next = updateStatesList(e, p, Next)\n",
        "      E = Next\n",
        "    status = 'N'\n",
        "    for e in E:\n",
        "      if e.code in endStates and len(e.stack) == 0:\n",
        "        status = 'S'\n",
        "    # print(status)\n",
        "    end = time.time()\n",
        "    Times.append(end - ini)\n",
        "  return Times"
      ],
      "metadata": {
        "id": "arTz5qHuhaYJ"
      },
      "execution_count": null,
      "outputs": []
    },
    {
      "cell_type": "markdown",
      "source": [
        "$ L_1 =  \\{a^nb^n | n >= 0\\} $"
      ],
      "metadata": {
        "id": "7t6Iamm5fGYA"
      }
    },
    {
      "cell_type": "code",
      "source": [
        "statesList = ['0', '1']\n",
        "alphabet = ['a', 'b']\n",
        "stackAlphabet = ['A']\n",
        "n = 3\n",
        "Transitions = [\n",
        "    Transition('0', 'a', ['*'], '0', ['A']),\n",
        "    Transition('0', '*', ['*'], '1', ['*']),\n",
        "    Transition('1', 'b', ['A'], '1', ['*'])\n",
        "]\n",
        "\n",
        "initialState = '0'\n",
        "endStates = ['1']\n",
        "\n",
        "wordsList = W1\n",
        "\n",
        "T1 = main()"
      ],
      "metadata": {
        "id": "2xn7bIv9genB"
      },
      "execution_count": null,
      "outputs": []
    },
    {
      "cell_type": "markdown",
      "source": [
        "Para fazer uma regressão linear utilizaremos a lib sklearn e, além disso, usaremos a lib pyplot para plotar os gráficos e numpy para trabalharmos de forma melhor com os arrays."
      ],
      "metadata": {
        "id": "ntJLrq6omYo0"
      }
    },
    {
      "cell_type": "code",
      "source": [
        "import numpy as np\n",
        "import matplotlib.pyplot as plt\n",
        "from sklearn.linear_model import LinearRegression\n",
        "\n",
        "lr = LinearRegression()\n",
        "x = np.array(list(zip(range(1,1001))))\n",
        "y = np.array(T1)\n",
        "lr.fit(x,y)\n",
        "plt.xlabel('n')\n",
        "plt.ylabel('tempo')\n",
        "plt.scatter(x, T1)\n",
        "plt.plot(x, lr.predict(x), color='red')\n",
        "a = lr.coef_[0]\n",
        "b= lr.intercept_\n",
        "print(\"y = {}x + {}\".format(a, b))\n",
        "print(\"ou\")\n",
        "print(\"tempo = {}n + {}\".format(a, b))"
      ],
      "metadata": {
        "colab": {
          "base_uri": "https://localhost:8080/",
          "height": 334
        },
        "id": "Ev0TGfkNnGPR",
        "outputId": "ab52d7de-364e-42e6-c812-eb8ae09f1238"
      },
      "execution_count": null,
      "outputs": [
        {
          "output_type": "stream",
          "name": "stdout",
          "text": [
            "y = 3.496884523343263e-05x + -1.672435451193638e-06\n",
            "ou\n",
            "tempo = 3.496884523343263e-05n + -1.672435451193638e-06\n"
          ]
        },
        {
          "output_type": "display_data",
          "data": {
            "text/plain": [
              "<Figure size 432x288 with 1 Axes>"
            ],
            "image/png": "[encoded data removed]"
          },
          "metadata": {
            "needs_background": "light"
          }
        }
      ]
    },
    {
      "cell_type": "markdown",
      "source": [
        "$ L_4 =  \\{a^{2n}b^n | n >= 0\\} $"
      ],
      "metadata": {
        "id": "ILxxZSJgNjxD"
      }
    },
    {
      "cell_type": "code",
      "source": [
        "statesList = ['0', '1']\n",
        "alphabet = ['a', 'b']\n",
        "stackAlphabet = ['A']\n",
        "n = 3\n",
        "Transitions = [\n",
        "    Transition('0', 'a', ['*'], '0', ['A']),\n",
        "    Transition('0', '*', ['*'], '1', ['*']),\n",
        "    Transition('1', 'b', list('AA'), '1', ['*'])\n",
        "]\n",
        "\n",
        "initialState = '0'\n",
        "endStates = ['1']\n",
        "\n",
        "wordsList = W2\n",
        "\n",
        "T2 = main()"
      ],
      "metadata": {
        "id": "JUZImppGNrle"
      },
      "execution_count": null,
      "outputs": []
    },
    {
      "cell_type": "code",
      "source": [
        "import numpy as np\n",
        "import matplotlib.pyplot as plt\n",
        "from sklearn.linear_model import LinearRegression\n",
        "\n",
        "lr = LinearRegression()\n",
        "x = np.array(list(zip(range(1,1001))))\n",
        "y = np.array(T2)\n",
        "lr.fit(x,y)\n",
        "plt.xlabel('n')\n",
        "plt.ylabel('tempo')\n",
        "plt.scatter(x, T2)\n",
        "plt.plot(x, lr.predict(x), color='red')\n",
        "a = lr.coef_[0]\n",
        "b= lr.intercept_\n",
        "print(\"y = {}x + {}\".format(a, b))\n",
        "print(\"ou\")\n",
        "print(\"tempo = {}n + {}\".format(a, b))"
      ],
      "metadata": {
        "colab": {
          "base_uri": "https://localhost:8080/",
          "height": 334
        },
        "id": "O2BFNpukNsbV",
        "outputId": "46bcface-ff62-484f-f79b-80feccedb7e4"
      },
      "execution_count": null,
      "outputs": [
        {
          "output_type": "stream",
          "name": "stdout",
          "text": [
            "y = 8.004979600219232e-05x + -0.006994088500827604\n",
            "ou\n",
            "tempo = 8.004979600219232e-05n + -0.006994088500827604\n"
          ]
        },
        {
          "output_type": "display_data",
          "data": {
            "text/plain": [
              "<Figure size 432x288 with 1 Axes>"
            ],
            "image/png": "[encoded data removed]"
          },
          "metadata": {
            "needs_background": "light"
          }
        }
      ]
    }
  ]
}