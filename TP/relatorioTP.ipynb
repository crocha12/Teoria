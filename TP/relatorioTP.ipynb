{
  "nbformat": 4,
  "nbformat_minor": 0,
  "metadata": {
    "colab": {
      "provenance": [],
      "authorship_tag": "ABX9TyPuaV+WFS8uFN88b+rxHzrX",
      "include_colab_link": true
    },
    "kernelspec": {
      "name": "python3",
      "display_name": "Python 3"
    },
    "language_info": {
      "name": "python"
    }
  },
  "cells": [
    {
      "cell_type": "markdown",
      "metadata": {
        "id": "view-in-github",
        "colab_type": "text"
      },
      "source": [
        "<a href=\"https://colab.research.google.com/github/crocha12/Teoria/blob/main/TP/relatorioTP.ipynb\" target=\"_parent\"><img src=\"https://colab.research.google.com/assets/colab-badge.svg\" alt=\"Open In Colab\"/></a>"
      ]
    },
    {
      "cell_type": "markdown",
      "source": [
        "# **Relatorio Tecnico TP**"
      ],
      "metadata": {
        "id": "7VJgQo28JsoT"
      }
    },
    {
      "cell_type": "markdown",
      "source": [
        "## Introdução"
      ],
      "metadata": {
        "id": "L-oBXwrIJ4d6"
      }
    },
    {
      "cell_type": "markdown",
      "source": [
        "A máquina de Turing é uma ideia criada por Alan Turing em 1936. Ela é uma máquina teórica que manipula símbolos em uma fita para resolver problemas. Essa máquina é importante para entender como é o funcionamento de um computador. A máquina de Turing padrão é composta por uma fita infinita que contém células que podem armazenar um símbolo cada, existe também um cabeçote que pode fazer leitura e escrita sobre as células movendo-se para esquerda ou direita sobre a fita. De forma similar aos Autômatos a maquina de Turing também possui um diagrama de estados, o qual define as regras do comportamento do cabeçote de acordo com estado, seja ele escrita, leitura e alteração no movimento."
      ],
      "metadata": {
        "id": "1gevv50PKP91"
      }
    },
    {
      "cell_type": "markdown",
      "source": [
        "## Projeto e Implementação do Algoritmo"
      ],
      "metadata": {
        "id": "EOEa6296J1NV"
      }
    },
    {
      "cell_type": "markdown",
      "source": [
        "O algoritmo foi projetado com base nos automatos desenvolvidos anteriormente na disciplina de LFA, diferente do AP que tinha uma pilha onde apenas empilhamos e desempilhamos simbolos, a maquina de turing possui uma fita onde é possivel ler e escrever sobre a palavra. Inicialmente no codigo fazemos um iteração sobre a lista de palavras que iremos verificar dentro de um for que para cada palavra $ w $ iremos rodar o algoritmo para resolver a maquina de turing. Inicialmente criamos um array E que contem uma instancia de StateStrip, que possui registrado o estado atual, uma fita e a posição do cabeçote. No não determinismo aplicado no algoritmo iremos criar diversas instâncias do StateStrip em outras etapas do codigo. Continuando, iremos criar uma variavel end que irá controlar o laço de execução do algoritmo. Dentro do laço teremos outro laço que itera sobre E onde para cada $ e $ em $ E $, iremos aplicar a função updateStatesList e guardar esse valor em outro array chamado Next, que irá receber todas as instâncias do StateStrip atualizadas. na função updateStateList inicialmente verificamos todas as transições possiveis para o estado atual do $ e $ e o simbolo contido na posição atual da fita, para cada uma das transições encontradas iremos fazer uma instância do StateStrip com o estado novo e com suas devidas alterações na fita e posição do cabeçote, no fim é retornado o array Next. Voltando para o ciclo principal o array $ E $ pegara os dados do Next, e em seguida é feita a verificação se algum dos StateStrip do $ E $ é final, caso sim, saimos do loop e retornamos $ S $, caso não o repetimos o ciclo até encontrar um StateStrip final ou a lista $ E $ ser vazia, caso vazio retornamos $ N $."
      ],
      "metadata": {
        "id": "JYz5FsEdKTAO"
      }
    },
    {
      "cell_type": "markdown",
      "source": [
        "## Metodologia:"
      ],
      "metadata": {
        "id": "A5Jnm851KCry"
      }
    },
    {
      "cell_type": "markdown",
      "source": [
        "Para desenvolver este algoritmo foi utilizado como base o último algorítimo desenvolvido na disciplina de LFA, que é um automato de pilha não determinístico, o algoritmo anterior foi desenvolvido com uma alta quantidade de testes e criado com a metodologia de TDD, sempre buscando deixar o código mais limpo possível(clean code). Partindo do código anterior, a classe StateStack foi substituída por StateStrip que possui os atributos: code(estado atual da máquina), strip(fita), pos(posição do cabeçote sobre a fita) e isFinal(determina se a maquina está em um estado final e sem transições possíveis), além disso, também foi alterada a classe Transition, que dessa vez possui os campos current, symbol, next, writeSymbol e direction. Na função updateStateStrip foram feitas atualizações para substituir a lógica de empilhamento e desempilhamento na pilha, por leitura/escrita na fita e alteração da direção do cabeçote. O algoritmo foi testado com o exemplo da atividade e o exemplo disponibilizado no video que apresentava a MTND."
      ],
      "metadata": {
        "id": "_o7aAf2WKUe4"
      }
    },
    {
      "cell_type": "markdown",
      "source": [
        "## Resultados e Conclusões:"
      ],
      "metadata": {
        "id": "cGlEpq7LKGBq"
      }
    },
    {
      "cell_type": "markdown",
      "source": [
        "Para analisar o tempo de execução serão feitos testes para as linguagens $ L $ = { $ a^nb^n $ | n > 0 } onde iremos variar o valor de n entre 1 e 100 onde o tamanho da palavra representa $2*n$ para $L$."
      ],
      "metadata": {
        "id": "yEhaDFtQKWK1"
      }
    },
    {
      "cell_type": "markdown",
      "source": [
        "Gerando as lista de palavras"
      ],
      "metadata": {
        "id": "d7ZWIVvehNb8"
      }
    },
    {
      "cell_type": "code",
      "source": [
        "n = 100\n",
        "W = []\n",
        "for i in range(n):\n",
        "  p = 'a'*(i+1) + 'b'*(i+1)\n",
        "  W.append(p)"
      ],
      "metadata": {
        "id": "sysD-9uKfugo"
      },
      "execution_count": 5,
      "outputs": []
    },
    {
      "cell_type": "markdown",
      "source": [
        "Foram feitas modificações no algoritmo original para poder registrar o seu tempo e além disso adicionamos a lib time"
      ],
      "metadata": {
        "id": "8wT1EWi4joTg"
      }
    },
    {
      "cell_type": "code",
      "source": [
        "import time"
      ],
      "metadata": {
        "id": "jTJ8zGHmjhrj"
      },
      "execution_count": 2,
      "outputs": []
    },
    {
      "cell_type": "code",
      "source": [
        "class StateStrip:\n",
        "  def __init__(self, code, strip, pos):\n",
        "    self.code = code\n",
        "    self.strip = strip\n",
        "    self.pos = pos\n",
        "    self.isFinal = False\n",
        "\n",
        "class Transition:\n",
        "  def __init__(self, current, symbol, next, writeSymbol, direction):\n",
        "    self.current = current\n",
        "    self.symbol = symbol\n",
        "    self.next = next\n",
        "    self.writeSymbol = writeSymbol\n",
        "    self.direction = direction\n",
        "\n",
        "def checkTransition(current, symbol):\n",
        "  return list(filter(lambda x: x.current == current and x.symbol == symbol, Transitions))\n",
        "\n",
        "def printarArrayState(a):\n",
        "  print('ArrayState')\n",
        "  for i in a:\n",
        "    print('    ', i.code, i.strip, i.pos)\n",
        "  print('end')\n",
        "\n",
        "def printTransition(tr, state):\n",
        "  print('Transitions para', state.code, state.strip)\n",
        "  for t in tr:\n",
        "    print('    ',t.next, t.writeSymbol, t.direction)\n",
        "  print('end')\n",
        "\n",
        "def updateStatesList(e, E):\n",
        "  tr = checkTransition(e.code, e.strip[e.pos])\n",
        "  for t in tr:\n",
        "    state = StateStrip(t.next, e.strip.copy(), e.pos)\n",
        "    if e.strip[e.pos] == '*':\n",
        "      state.strip.append('*')\n",
        "    state.strip[state.pos] = t.writeSymbol\n",
        "    if t.direction == 'D':\n",
        "      state.pos = state.pos + 1\n",
        "    elif t.direction == 'E':\n",
        "      state.pos = state.pos - 1\n",
        "    if state.code in endStates and len(checkTransition(state.code, state.strip[state.pos])) == 0:\n",
        "      state.isFinal = True\n",
        "    E.append(state)\n",
        "  return E   \n",
        "\n",
        "def main():\n",
        "  Times = []\n",
        "  for w in wordsList:\n",
        "    ini = time.time()\n",
        "    E = [StateStrip(initialState, list(limit + w + blank), 1)]\n",
        "    end = False\n",
        "    status = 'N'\n",
        "    while not end:\n",
        "      Next = []\n",
        "      while len(E) > 0:\n",
        "        e = E.pop()\n",
        "        Next = updateStatesList(e, Next)\n",
        "      E = Next\n",
        "      for e in E:\n",
        "        if e.isFinal:\n",
        "          status = 'S'\n",
        "          end = True\n",
        "      if len(E) == 0:\n",
        "        end = True\n",
        "    #print(status)\n",
        "    end = time.time()\n",
        "    Times.append(end - ini)\n",
        "  return Times"
      ],
      "metadata": {
        "id": "arTz5qHuhaYJ"
      },
      "execution_count": 6,
      "outputs": []
    },
    {
      "cell_type": "markdown",
      "source": [
        "$ L_ =  \\{a^nb^n | n >= 0\\} $"
      ],
      "metadata": {
        "id": "7t6Iamm5fGYA"
      }
    },
    {
      "cell_type": "code",
      "source": [
        "statesList = ['0', '1', '2', '3', '4']\n",
        "alphabet = ['a', 'b']\n",
        "stripAlphabet = ['A', 'B', '*']\n",
        "limit = '<'\n",
        "blank = '*'\n",
        "n = 10\n",
        "Transitions = [\n",
        "    Transition('0', 'a', '1', 'A', 'D'),\n",
        "    Transition('1', 'a', '1', 'a', 'D'),\n",
        "    Transition('1', 'B', '1', 'B', 'D'),\n",
        "    Transition('1', 'b', '2', 'B', 'E'),\n",
        "    Transition('2', 'B', '2', 'B', 'E'),\n",
        "    Transition('2', 'a', '2', 'a', 'E'),\n",
        "    Transition('2', 'A', '0', 'A', 'D'),\n",
        "    Transition('0', 'B', '3', 'B', 'D'),\n",
        "    Transition('3', 'B', '3', 'B', 'D'),\n",
        "    Transition('3', '*', '4', '*', 'E'),\n",
        "]\n",
        "\n",
        "initialState = '0'\n",
        "endStates = ['4']\n",
        "\n",
        "wordsList = W\n",
        "\n",
        "T = main()"
      ],
      "metadata": {
        "id": "2xn7bIv9genB"
      },
      "execution_count": 13,
      "outputs": []
    },
    {
      "cell_type": "markdown",
      "source": [
        "Para fazer uma regressão linear utilizaremos a lib sklearn e, além disso, usaremos a lib pyplot para plotar os gráficos e numpy para trabalharmos de forma melhor com os arrays."
      ],
      "metadata": {
        "id": "ntJLrq6omYo0"
      }
    },
    {
      "cell_type": "code",
      "source": [
        "import numpy as np\n",
        "import matplotlib.pyplot as plt\n",
        "from sklearn.linear_model import LinearRegression\n",
        "\n",
        "lr = LinearRegression()\n",
        "x = np.array(list(zip(range(1,101))))\n",
        "y = np.array(T)\n",
        "lr.fit(x,y)\n",
        "plt.xlabel('n')\n",
        "plt.ylabel('tempo')\n",
        "plt.scatter(x, T)\n",
        "plt.plot(x, lr.predict(x), color='red')\n",
        "a = lr.coef_[0]\n",
        "b= lr.intercept_\n",
        "print(\"y = {}x + {}\".format(a, b))\n",
        "print(\"ou\")\n",
        "print(\"tempo = {}n + {}\".format(a, b))"
      ],
      "metadata": {
        "colab": {
          "base_uri": "https://localhost:8080/",
          "height": 331
        },
        "id": "Ev0TGfkNnGPR",
        "outputId": "75f2e7a5-1c0d-4bce-8b22-75b8e918a503"
      },
      "execution_count": 14,
      "outputs": [
        {
          "output_type": "stream",
          "name": "stdout",
          "text": [
            "y = 0.0009435202100417869x + -0.01698575612270472\n",
            "ou\n",
            "tempo = 0.0009435202100417869n + -0.01698575612270472\n"
          ]
        },
        {
          "output_type": "display_data",
          "data": {
            "text/plain": [
              "<Figure size 432x288 with 1 Axes>"
            ],
            "image/png": "[encoded data removed]"
          },
          "metadata": {
            "needs_background": "light"
          }
        }
      ]
    }
  ]
}