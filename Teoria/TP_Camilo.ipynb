{
  "nbformat": 4,
  "nbformat_minor": 0,
  "metadata": {
    "colab": {
      "provenance": [],
      "authorship_tag": "ABX9TyMduIBkoU9FOlr8f6qLSq1H",
      "include_colab_link": true
    },
    "kernelspec": {
      "name": "python3",
      "display_name": "Python 3"
    },
    "language_info": {
      "name": "python"
    }
  },
  "cells": [
    {
      "cell_type": "markdown",
      "metadata": {
        "id": "view-in-github",
        "colab_type": "text"
      },
      "source": [
        "<a href=\"https://colab.research.google.com/github/crocha12/Teoria/blob/main/Teoria/TP_Camilo.ipynb\" target=\"_parent\"><img src=\"https://colab.research.google.com/assets/colab-badge.svg\" alt=\"Open In Colab\"/></a>"
      ]
    },
    {
      "cell_type": "markdown",
      "source": [
        "# Classe e funções"
      ],
      "metadata": {
        "id": "43lDRvJngoY6"
      }
    },
    {
      "cell_type": "code",
      "source": [
        "class StateStrip:\n",
        "  def __init__(self, code, strip, pos):\n",
        "    self.code = code\n",
        "    self.strip = strip\n",
        "    self.pos = pos\n",
        "    self.isFinal = False\n",
        "\n",
        "class Transition:\n",
        "  def __init__(self, current, symbol, next, writeSymbol, direction):\n",
        "    self.current = current\n",
        "    self.symbol = symbol\n",
        "    self.next = next\n",
        "    self.writeSymbol = writeSymbol\n",
        "    self.direction = direction\n",
        "\n",
        "def checkTransition(current, symbol):\n",
        "  return list(filter(lambda x: x.current == current and x.symbol == symbol, Transitions))\n",
        "\n",
        "def printarArrayState(a):\n",
        "  print('ArrayState')\n",
        "  for i in a:\n",
        "    print('    ', i.code, i.strip, i.pos)\n",
        "  print('end')\n",
        "\n",
        "def printTransition(tr, state):\n",
        "  print('Transitions para', state.code, state.strip)\n",
        "  for t in tr:\n",
        "    print('    ',t.next, t.writeSymbol, t.direction)\n",
        "  print('end')\n",
        "\n",
        "def updateStatesList(e, E):\n",
        "  tr = checkTransition(e.code, e.strip[e.pos])\n",
        "  for t in tr:\n",
        "    state = StateStrip(t.next, e.strip.copy(), e.pos)\n",
        "    if e.strip[e.pos] == '*':\n",
        "      state.strip.append('*')\n",
        "    state.strip[state.pos] = t.writeSymbol\n",
        "    if t.direction == 'D':\n",
        "      state.pos = state.pos + 1\n",
        "    elif t.direction == 'E':\n",
        "      state.pos = state.pos - 1\n",
        "    if state.code in endStates and len(checkTransition(state.code, state.strip[state.pos])) == 0:\n",
        "      state.isFinal = True\n",
        "    E.append(state)\n",
        "  return E    "
      ],
      "metadata": {
        "id": "encqqgLeMa7s"
      },
      "execution_count": 1,
      "outputs": []
    },
    {
      "cell_type": "markdown",
      "source": [
        "# Casos de Teste"
      ],
      "metadata": {
        "id": "7YZageohr6LA"
      }
    },
    {
      "cell_type": "markdown",
      "source": [
        "## Initial Example"
      ],
      "metadata": {
        "id": "tKumJFiExFh-"
      }
    },
    {
      "cell_type": "code",
      "source": [
        "statesList = ['0', '1', '2', '3', '4']\n",
        "alphabet = ['a', 'b']\n",
        "stripAlphabet = ['A', 'B', '*']\n",
        "limit = '<'\n",
        "blank = '*'\n",
        "n = 10\n",
        "Transitions = [\n",
        "    Transition('0', 'a', '1', 'A', 'D'),\n",
        "    Transition('1', 'a', '1', 'a', 'D'),\n",
        "    Transition('1', 'B', '1', 'B', 'D'),\n",
        "    Transition('1', 'b', '2', 'B', 'E'),\n",
        "    Transition('2', 'B', '2', 'B', 'E'),\n",
        "    Transition('2', 'a', '2', 'a', 'E'),\n",
        "    Transition('2', 'A', '0', 'A', 'D'),\n",
        "    Transition('0', 'B', '3', 'B', 'D'),\n",
        "    Transition('3', 'B', '3', 'B', 'D'),\n",
        "    Transition('3', '*', '4', '*', 'E'),\n",
        "]\n",
        "\n",
        "initialState = '0'\n",
        "endStates = ['4']\n",
        "\n",
        "wordsList = ['*','ab', 'ba', 'abb', 'aab', 'aabb']"
      ],
      "metadata": {
        "id": "6YBNwlXTvF-o"
      },
      "execution_count": 2,
      "outputs": []
    },
    {
      "cell_type": "markdown",
      "source": [
        "## Video Example"
      ],
      "metadata": {
        "id": "0IlOyImCDBVj"
      }
    },
    {
      "cell_type": "code",
      "source": [
        "statesList = [\"e1\", \"e2\", \"e3\", \"e4\", \"e5\", \"e6\"]\n",
        "alphabet = ['a', 'b']\n",
        "stripAlphabet = [\"a\", \"b\", \"c\", \"*\", \"<\"]\n",
        "limit = '<'\n",
        "blank = '*'\n",
        "n = 12\n",
        "Transitions = [\n",
        "    Transition('e1', 'c', 'e1', 'c', 'D'), \n",
        "    Transition('e1', 'b', 'e1', 'b', 'D'), \n",
        "    Transition('e1', 'a', 'e2', 'b', 'D'), \n",
        "    Transition('e2', 'b', 'e2', 'b', 'D'),\n",
        "    Transition('e2', '*', 'e3', '*', 'E'), \n",
        "    Transition('e3', 'b', 'e3', 'b', 'E'), \n",
        "    Transition('e3', '<', 'e6', '<', 'D'), \n",
        "    Transition('e1', 'a', 'e4', 'c', 'D'),\n",
        "    Transition('e4', 'c', 'e4', 'c', 'D'), \n",
        "    Transition('e4', '*', 'e5', '*', 'E'), \n",
        "    Transition('e5', 'c', 'e5', 'c', 'E'), \n",
        "    Transition('e5', '<', 'e6', '<', 'D')\n",
        "]\n",
        "\n",
        "initialState = 'e1'\n",
        "endStates = ['e6']\n",
        "\n",
        "wordsList = ['*','bbabb','bbbb','abab','ccacc',\"ccccac\"]"
      ],
      "metadata": {
        "id": "MIlNMsse6B4N"
      },
      "execution_count": null,
      "outputs": []
    },
    {
      "cell_type": "markdown",
      "source": [
        "# Execução"
      ],
      "metadata": {
        "id": "4fWSfZPjiouI"
      }
    },
    {
      "cell_type": "code",
      "source": [
        "for w in wordsList:\n",
        "  E = [StateStrip(initialState, list(limit + w + blank), 1)]\n",
        "  end = False\n",
        "  status = 'N'\n",
        "  while not end:\n",
        "    Next = []\n",
        "    while len(E) > 0:\n",
        "      e = E.pop()\n",
        "      Next = updateStatesList(e, Next)\n",
        "    E = Next\n",
        "    for e in E:\n",
        "      if e.isFinal:\n",
        "        status = 'S'\n",
        "        end = True\n",
        "    if len(E) == 0:\n",
        "      end = True\n",
        "  print(status)"
      ],
      "metadata": {
        "colab": {
          "base_uri": "https://localhost:8080/"
        },
        "id": "k90cqV_XvqFr",
        "outputId": "9f984d7f-a948-4d2c-bc3a-cf67e94a0b85"
      },
      "execution_count": 3,
      "outputs": [
        {
          "output_type": "stream",
          "name": "stdout",
          "text": [
            "N\n",
            "S\n",
            "N\n",
            "N\n",
            "N\n",
            "S\n"
          ]
        }
      ]
    },
    {
      "cell_type": "markdown",
      "source": [
        "## Algoritmo para submissão"
      ],
      "metadata": {
        "id": "HjfdaJ1ZIhfa"
      }
    },
    {
      "cell_type": "code",
      "source": [
        "class StateStrip:\n",
        "  def __init__(self, code, strip, pos):\n",
        "    self.code = code\n",
        "    self.strip = strip\n",
        "    self.pos = pos\n",
        "    self.isFinal = False\n",
        "\n",
        "class Transition:\n",
        "  def __init__(self, current, symbol, next, writeSymbol, direction):\n",
        "    self.current = current\n",
        "    self.symbol = symbol\n",
        "    self.next = next\n",
        "    self.writeSymbol = writeSymbol\n",
        "    self.direction = direction\n",
        "\n",
        "def checkTransition(current, symbol):\n",
        "  return list(filter(lambda x: x.current == current and x.symbol == symbol, Transitions))\n",
        "\n",
        "def updateStatesList(e, E):\n",
        "  tr = checkTransition(e.code, e.strip[e.pos])\n",
        "  for t in tr:\n",
        "    state = StateStrip(t.next, e.strip.copy(), e.pos)\n",
        "    if e.strip[e.pos] == '*':\n",
        "      state.strip.append('*')\n",
        "    state.strip[state.pos] = t.writeSymbol\n",
        "    if t.direction == 'D':\n",
        "      state.pos = state.pos + 1\n",
        "    elif t.direction == 'E':\n",
        "      state.pos = state.pos - 1\n",
        "    if state.code in endStates and len(checkTransition(state.code, state.strip[state.pos])) == 0:\n",
        "      state.isFinal = True\n",
        "    E.append(state)\n",
        "  return E       \n",
        "\n",
        "statesList = input().split(sep=' ')\n",
        "alphabet = input().split(sep=' ')\n",
        "stripAlphabet = input().split(sep=' ')\n",
        "\n",
        "limit = input()\n",
        "blank = input()\n",
        "n = int(input())\n",
        "\n",
        "Transitions = []\n",
        "for i in range(n):\n",
        "  t = input().split(sep=' ')\n",
        "  Transitions.append(Transition(t[0], t[1], t[2], t[3], t[4]))\n",
        "\n",
        "initialState = input()\n",
        "endStates = input().split(' ')\n",
        "\n",
        "wordsList = input().split(sep=' ')\n",
        "\n",
        "for w in wordsList:\n",
        "  E = [StateStrip(initialState, list(limit + w + blank), 1)]\n",
        "  end = False\n",
        "  status = 'N'\n",
        "  while not end:\n",
        "    Next = []\n",
        "    while len(E) > 0:\n",
        "      e = E.pop()\n",
        "      Next = updateStatesList(e, Next)\n",
        "    E = Next\n",
        "    for e in E:\n",
        "      if e.isFinal:\n",
        "        status = 'S'\n",
        "        end = True\n",
        "    if len(E) == 0:\n",
        "      end = True\n",
        "  print(status)"
      ],
      "metadata": {
        "colab": {
          "base_uri": "https://localhost:8080/",
          "height": 380
        },
        "id": "PSG5jx8-3U1D",
        "outputId": "c3ed80de-f61e-4733-a779-4ccf2cd25dc8"
      },
      "execution_count": null,
      "outputs": [
        {
          "output_type": "error",
          "ename": "KeyboardInterrupt",
          "evalue": "ignored",
          "traceback": [
            "\u001b[0;31m---------------------------------------------------------------------------\u001b[0m",
            "\u001b[0;31mKeyboardInterrupt\u001b[0m                         Traceback (most recent call last)",
            "\u001b[0;32m<ipython-input-1-28132eccad55>\u001b[0m in \u001b[0;36m<module>\u001b[0;34m\u001b[0m\n\u001b[1;32m     34\u001b[0m   \u001b[0;32mreturn\u001b[0m \u001b[0mE\u001b[0m\u001b[0;34m\u001b[0m\u001b[0;34m\u001b[0m\u001b[0m\n\u001b[1;32m     35\u001b[0m \u001b[0;34m\u001b[0m\u001b[0m\n\u001b[0;32m---> 36\u001b[0;31m \u001b[0mstatesList\u001b[0m \u001b[0;34m=\u001b[0m \u001b[0minput\u001b[0m\u001b[0;34m(\u001b[0m\u001b[0;34m)\u001b[0m\u001b[0;34m.\u001b[0m\u001b[0msplit\u001b[0m\u001b[0;34m(\u001b[0m\u001b[0msep\u001b[0m\u001b[0;34m=\u001b[0m\u001b[0;34m' '\u001b[0m\u001b[0;34m)\u001b[0m\u001b[0;34m\u001b[0m\u001b[0;34m\u001b[0m\u001b[0m\n\u001b[0m\u001b[1;32m     37\u001b[0m \u001b[0malphabet\u001b[0m \u001b[0;34m=\u001b[0m \u001b[0minput\u001b[0m\u001b[0;34m(\u001b[0m\u001b[0;34m)\u001b[0m\u001b[0;34m.\u001b[0m\u001b[0msplit\u001b[0m\u001b[0;34m(\u001b[0m\u001b[0msep\u001b[0m\u001b[0;34m=\u001b[0m\u001b[0;34m' '\u001b[0m\u001b[0;34m)\u001b[0m\u001b[0;34m\u001b[0m\u001b[0;34m\u001b[0m\u001b[0m\n\u001b[1;32m     38\u001b[0m \u001b[0mstripAlphabet\u001b[0m \u001b[0;34m=\u001b[0m \u001b[0minput\u001b[0m\u001b[0;34m(\u001b[0m\u001b[0;34m)\u001b[0m\u001b[0;34m.\u001b[0m\u001b[0msplit\u001b[0m\u001b[0;34m(\u001b[0m\u001b[0msep\u001b[0m\u001b[0;34m=\u001b[0m\u001b[0;34m' '\u001b[0m\u001b[0;34m)\u001b[0m\u001b[0;34m\u001b[0m\u001b[0;34m\u001b[0m\u001b[0m\n",
            "\u001b[0;32m/usr/local/lib/python3.9/dist-packages/ipykernel/kernelbase.py\u001b[0m in \u001b[0;36mraw_input\u001b[0;34m(self, prompt)\u001b[0m\n\u001b[1;32m    858\u001b[0m                 \u001b[0;34m\"raw_input was called, but this frontend does not support input requests.\"\u001b[0m\u001b[0;34m\u001b[0m\u001b[0;34m\u001b[0m\u001b[0m\n\u001b[1;32m    859\u001b[0m             )\n\u001b[0;32m--> 860\u001b[0;31m         return self._input_request(str(prompt),\n\u001b[0m\u001b[1;32m    861\u001b[0m             \u001b[0mself\u001b[0m\u001b[0;34m.\u001b[0m\u001b[0m_parent_ident\u001b[0m\u001b[0;34m,\u001b[0m\u001b[0;34m\u001b[0m\u001b[0;34m\u001b[0m\u001b[0m\n\u001b[1;32m    862\u001b[0m             \u001b[0mself\u001b[0m\u001b[0;34m.\u001b[0m\u001b[0m_parent_header\u001b[0m\u001b[0;34m,\u001b[0m\u001b[0;34m\u001b[0m\u001b[0;34m\u001b[0m\u001b[0m\n",
            "\u001b[0;32m/usr/local/lib/python3.9/dist-packages/ipykernel/kernelbase.py\u001b[0m in \u001b[0;36m_input_request\u001b[0;34m(self, prompt, ident, parent, password)\u001b[0m\n\u001b[1;32m    902\u001b[0m             \u001b[0;32mexcept\u001b[0m \u001b[0mKeyboardInterrupt\u001b[0m\u001b[0;34m:\u001b[0m\u001b[0;34m\u001b[0m\u001b[0;34m\u001b[0m\u001b[0m\n\u001b[1;32m    903\u001b[0m                 \u001b[0;31m# re-raise KeyboardInterrupt, to truncate traceback\u001b[0m\u001b[0;34m\u001b[0m\u001b[0;34m\u001b[0m\u001b[0m\n\u001b[0;32m--> 904\u001b[0;31m                 \u001b[0;32mraise\u001b[0m \u001b[0mKeyboardInterrupt\u001b[0m\u001b[0;34m(\u001b[0m\u001b[0;34m\"Interrupted by user\"\u001b[0m\u001b[0;34m)\u001b[0m \u001b[0;32mfrom\u001b[0m \u001b[0;32mNone\u001b[0m\u001b[0;34m\u001b[0m\u001b[0;34m\u001b[0m\u001b[0m\n\u001b[0m\u001b[1;32m    905\u001b[0m             \u001b[0;32mexcept\u001b[0m \u001b[0mException\u001b[0m \u001b[0;32mas\u001b[0m \u001b[0me\u001b[0m\u001b[0;34m:\u001b[0m\u001b[0;34m\u001b[0m\u001b[0;34m\u001b[0m\u001b[0m\n\u001b[1;32m    906\u001b[0m                 \u001b[0mself\u001b[0m\u001b[0;34m.\u001b[0m\u001b[0mlog\u001b[0m\u001b[0;34m.\u001b[0m\u001b[0mwarning\u001b[0m\u001b[0;34m(\u001b[0m\u001b[0;34m\"Invalid Message:\"\u001b[0m\u001b[0;34m,\u001b[0m \u001b[0mexc_info\u001b[0m\u001b[0;34m=\u001b[0m\u001b[0;32mTrue\u001b[0m\u001b[0;34m)\u001b[0m\u001b[0;34m\u001b[0m\u001b[0;34m\u001b[0m\u001b[0m\n",
            "\u001b[0;31mKeyboardInterrupt\u001b[0m: Interrupted by user"
          ]
        }
      ]
    }
  ]
}